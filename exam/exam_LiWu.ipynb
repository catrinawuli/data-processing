{
 "cells": [
  {
   "cell_type": "markdown",
   "id": "28875ccd",
   "metadata": {},
   "source": [
    "# Theoretical Part\n",
    "\n",
    "## 1. Functional Programming (5p)\n",
    "\n",
    "### The code:\n",
    "\n",
    "URL = \"https://raw.githubusercontent.com/mt4007-ht23/data/main/cell_phones_total.csv\"  \n",
    "data = pd.read_csv(URL)  \n",
    "unique_values_per_column = data.apply(lambda x: x.unique())  \n",
    "\n",
    "\n",
    "### Answer:  \n",
    "\n",
    "About a functional language, I can provide an example from my homework 4 where I used functional programming to find the unique values in each column of a pandas DataFrame as the code above.   \n",
    "According to the official documentation, series.unique() will return unique values of a Series object in the order of appearance. This function is deterministic because calling it with the same arguments will always produce the same result. Moreover, this function has no side effects; it doesn't modify any external state or rely on external variables. Therefore, series.unique() is a pure function.  \n",
    "Regarding immutability, Objects passed to the function dataframe.apply() are Series objects whose index is the DataFrame’s index (axis=0) by default which means apply function to each column. And the length of a Series cannot be changed after it is created, so the Series object x here is immutable.  \n",
    "In the end, we can see that I applied a pure function to a size-immutable object, making the code easy to understand, reason about, and modify if needed.  "
   ]
  },
  {
   "cell_type": "markdown",
   "id": "cbf5480b",
   "metadata": {},
   "source": [
    "## 2. SQL (5p)\n",
    "\n",
    "### SQL query:  \n",
    "\n",
    "SELECT StudentID, SUM(Grade * Credits)  AS  the_average_grade  \n",
    "FROM StudentsGrades  \n",
    "GROUP BY StudentID;  \n",
    "\n",
    "### Explaining the significance of grouping data in SQL :  \n",
    "**Aggregation and Conditional Aggregation:**  \n",
    "Grouping allows the application of aggregate functions (such as SUM, AVG) on subsets of data instead of the entire dataset. This enables the calculation of summary statistics and metrics for specific groups. Conditional aggregation can also be applied. For instance, in my query, I calculate the weighted sum of Grade and Credits for each student.\n",
    "\n",
    "**Enhancing Readability:**  \n",
    "Grouping enhances the readability of query results by organizing data into manageable chunks. This makes it easier to interpret and understand information. As demonstrated in my example above, queries become more straightforward, requiring fewer lines to accomplish complex calculations.\n",
    "\n",
    "**Performance Optimization:**  \n",
    "Grouping contributes to performance optimization by enabling the database engine to process and aggregate data more efficiently. It reduces the amount of data that needs to be processed for certain operations. In my example, the sum of the products of Grade and Credits is aggregated separately for each student, minimizing the data processing requirements."
   ]
  },
  {
   "cell_type": "markdown",
   "id": "e0aa3920",
   "metadata": {},
   "source": [
    "## 3. RegEx (5p)\n",
    "\n",
    "1, (\\d{4}-\\d{2}-\\d{2} \\d{2}:\\d{2}:\\d{2}) - This matches the timestamp in the format \"YYYY-MM-DD HH:MM:SS\".\n",
    "\n",
    "2, (GET|POST|PUT|PATCH|DELETE) - - This matches the HTTP request type, as one of GET, POST, PUT, PATCH, or DELETE.\n",
    "\n",
    "3, (\\/.+) - This matches the resource path, starting with a forward slash (\"/\"). The .+ matches one or more of any character (except for a newline).\n",
    "\n",
    "4, Status (\\d{3}) - This matches the HTTP status code (three digits after \"Status \").\n",
    "\n",
    "5, ResponseTime (\\d+)ms - This matches the response time in milliseconds. It looks for the substring \"ResponseTime \" followed by one or more digits and the characters \"ms\"."
   ]
  },
  {
   "cell_type": "code",
   "execution_count": 221,
   "id": "a699ef3f",
   "metadata": {},
   "outputs": [
    {
     "name": "stdout",
     "output_type": "stream",
     "text": [
      "timestamp: 2024-01-05 15:20:30\n",
      "request type: GET\n",
      "resource path: /users/1234\n",
      "HTTP status code: 200\n",
      "response time: 120ms\n"
     ]
    }
   ],
   "source": [
    "import re\n",
    "\n",
    "log = \"2024-01-05 15:20:30 - GET - /users/1234 - Status 200 - ResponseTime 120ms\"\n",
    "\n",
    "pattern = re.compile(r'(\\d{4}-\\d{2}-\\d{2} \\d{2}:\\d{2}:\\d{2}) - (GET|POST|PUT|PATCH|DELETE) - (\\/.+) - Status (\\d{3}) - ResponseTime (\\d+)ms')\n",
    "\n",
    "matches = pattern.match(log)\n",
    "\n",
    "if matches:\n",
    "    print(f\"timestamp: {matches.group(1)}\")\n",
    "    print(f\"request type: {matches.group(2)}\")\n",
    "    print(f\"resource path: {matches.group(3)}\")\n",
    "    print(f\"HTTP status code: {matches.group(4)}\")\n",
    "    print(f\"response time: {matches.group(5)}ms\")\n",
    "else:\n",
    "    print(\"can not find match.\")"
   ]
  },
  {
   "cell_type": "markdown",
   "id": "53763cba",
   "metadata": {},
   "source": [
    "# Practical Part"
   ]
  },
  {
   "cell_type": "markdown",
   "id": "b07435d2",
   "metadata": {},
   "source": [
    "## 4. Monkeypox (10p)\n",
    "\n",
    "<span style=\"font-size: larger; color: #000;\">&bull;</span> **List the top 5 countries with highest number of total confirmed cases (ConfCases). Generate the following table. (2p)**  \n",
    "We first create a dataframe with the aggregated data, namely the number of total confirmed cases grouped by country. Then we display the top five in this dataframe."
   ]
  },
  {
   "cell_type": "code",
   "execution_count": 222,
   "id": "a54b945a",
   "metadata": {},
   "outputs": [
    {
     "name": "stdout",
     "output_type": "stream",
     "text": [
      "|    | DateRep    | CountryExp   | CountryCode   |   ConfCases |\n",
      "|---:|:-----------|:-------------|:--------------|------------:|\n",
      "|  0 | 2022-05-09 | Austria      | AT            |           0 |\n",
      "|  1 | 2022-05-09 | Belgium      | BE            |           0 |\n",
      "|  2 | 2022-05-09 | Bulgaria     | BG            |           0 |\n",
      "|  3 | 2022-05-09 | Croatia      | HR            |           0 |\n",
      "|  4 | 2022-05-09 | Cyprus       | CY            |           0 |\n",
      "| CountryExp   |   ConfCases |\n",
      "|:-------------|------------:|\n",
      "| Spain        |        4942 |\n",
      "| Germany      |        2887 |\n",
      "| France       |        2423 |\n",
      "| Netherlands  |         959 |\n",
      "| Portugal     |         710 |\n"
     ]
    }
   ],
   "source": [
    "import pandas as pd\n",
    "import matplotlib.pyplot as plt \n",
    "\n",
    "URL = \"https://raw.githubusercontent.com/mt4007-ht23/data/main/exam_data/monkeypox.csv\"\n",
    "monkeypox = pd.read_csv(URL)\n",
    "\n",
    "# for the better understanding of data, we display the first 5 rows of the dataset.\n",
    "print(monkeypox.head().to_markdown())\n",
    "\n",
    "# create a dataframe which has the  number of total confirmed cases grouped by countries. \n",
    "# as_index=False: keep the grouping columns as regular columns in the resulting DataFrame.\n",
    "totalConfCases = monkeypox.groupby(\"CountryExp\", as_index=False)[\"ConfCases\"].sum()\n",
    "\n",
    "# We only print out the top five countries with highest number of total confirmed cases\n",
    "print(totalConfCases.sort_values(by = \"ConfCases\", ascending=False).head().to_markdown(index=False))"
   ]
  },
  {
   "cell_type": "markdown",
   "id": "256564f0",
   "metadata": {},
   "source": [
    "<span style=\"font-size: larger; color: #000;\">&bull;</span> **Visualise the total number of cases per week. Recreate the following figure.**  \n",
    "\n",
    "Here we create a new dataframe that has the data of the number of weekly confirmed cases, then we visualize it with a bar plot.\n"
   ]
  },
  {
   "cell_type": "code",
   "execution_count": 223,
   "id": "ae63a70a",
   "metadata": {},
   "outputs": [
    {
     "data": {
      "image/png": "[encoded data removed]",
      "text/plain": [
       "<Figure size 1000x600 with 1 Axes>"
      ]
     },
     "metadata": {},
     "output_type": "display_data"
    }
   ],
   "source": [
    "# Convert the \"DateRep\" column to a datetime object\n",
    "monkeypox[\"DateRep\"] = pd.to_datetime(monkeypox[\"DateRep\"])\n",
    "\n",
    "# Create a new column for the week\n",
    "monkeypox[\"Week\"] = monkeypox[\"DateRep\"].dt.to_period('W')\n",
    "\n",
    "# create a dataframe which has the  number of total confirmed cases grouped by countries. \n",
    "totalConfCases_weekly = monkeypox.groupby(\"Week\", as_index=False)[\"ConfCases\"].sum()\n",
    "\n",
    "# create a new column with week number\n",
    "Week_num = dict(zip(totalConfCases_weekly[\"Week\"],  list(range(19, 33))))\n",
    "totalConfCases_weekly[\"weekNum\"] = totalConfCases_weekly[\"Week\"].map(Week_num)\n",
    "\n",
    "plt.figure(figsize=(10, 6))\n",
    "plt.bar(totalConfCases_weekly[\"weekNum\"],totalConfCases_weekly[\"ConfCases\"])\n",
    "plt.title('Confirmed Cases Per Week')\n",
    "plt.xlabel('Week')\n",
    "plt.ylabel('ConfCases')\n",
    "plt.show()"
   ]
  },
  {
   "cell_type": "markdown",
   "id": "3664f30d",
   "metadata": {},
   "source": [
    "<span style=\"font-size: larger; color: #000;\">&bull;</span> **Webscrape the following link for population data. The year 2022 is enough. Visualise the total number of cases per 100 000 inhabitant and per country. That is, generate the following plot. (6p)**\n",
    "\n",
    "We obtained a dictionary from web scraping and attempted to map the information to the 'totalConfCases' DataFrame.   \n",
    "However, I encountered difficulty converting the dictionary to numeric values in a timely manner, so this part remains unresolved."
   ]
  },
  {
   "cell_type": "code",
   "execution_count": 224,
   "id": "22566242",
   "metadata": {},
   "outputs": [],
   "source": [
    "import requests\n",
    "from bs4 import BeautifulSoup\n",
    "\n",
    "URL = \"https://www.populationu.com/gen/population-by-country\"\n",
    "page = requests.get(URL)\n",
    "\n",
    "bs = BeautifulSoup(page.content, \"lxml\")\n",
    "table = bs.find('table', class_='ptable2')\n",
    "population_all = {}\n",
    "for row in table.find_all('tr')[1:-1]: # ignore first row as header and last row \"world\"\n",
    "    columns = row.find_all('td')\n",
    "    country_name = columns[0].text.strip()\n",
    "    population_2022 = columns[2].text.strip()\n",
    "    population_all[country_name] = population_2022"
   ]
  },
  {
   "cell_type": "code",
   "execution_count": 225,
   "id": "1fd722df",
   "metadata": {},
   "outputs": [],
   "source": [
    "#combined_data.loc[:, \"num_per_cap\"] = round(combined_data[\"n_cellphones\"] / combined_data[\"population\"], 5)\n",
    "\n",
    "totalConfCases[\"population\"] = totalConfCases[\"CountryExp\"].map(population_all)\n",
    "\n",
    "# Convert 'col1' to numeric\n",
    "#s = totalConfCases[\"population\"]\n",
    "#pd.to_numeric(s)\n",
    "#totalConfCases.info()\n",
    "#totalConfCases[\"population\"] = totalConfCases[\"population\"].astype(int)\n",
    "#totalConfCases[\"numPer\"] = round((totalConfCases[\"ConfCases\"] / totalConfCases[\"population\"])*100000, 5)\n",
    "#totalConfCases.info()\n",
    "# data.plot.barh(ax=axes[1], color=\"black\", alpha=0.7)  Horizonal bar plot"
   ]
  },
  {
   "cell_type": "markdown",
   "id": "27c4810a",
   "metadata": {},
   "source": [
    "## 5. Data Storage (10p)\n",
    "\n",
    "<span style=\"font-size: larger; color: #000;\">&bull;</span> **Read in the file studentlog.txt using any method you want and deal with missing entries. Explain your procedure. (4p)**\n",
    "\n",
    "We can identify missing values by running the code \"studentlog.info()\". There are 6 NAs in the 'difficulty' column, 2 in 'name', and 2 in 'grade'. We can address the 6 NAs in 'difficulty' by finding the corresponding values in the dataframe. However, for the remaining NAs in 'name' and 'grade,' we cannot handle them without further information. Therefore, we leave them as NA."
   ]
  },
  {
   "cell_type": "code",
   "execution_count": 226,
   "id": "9fdeb7c6",
   "metadata": {},
   "outputs": [
    {
     "name": "stdout",
     "output_type": "stream",
     "text": [
      "|      |   id | name                                           |   credits |   difficulty |   grades | student       |\n",
      "|-----:|-----:|:-----------------------------------------------|----------:|-------------:|---------:|:--------------|\n",
      "|  168 |   83 | General Physics II – Electricity and Magnetism |         4 |          nan |        4 | Billy Turner  |\n",
      "|  322 |   43 | Introduction to Quantum Mechanics I            |         3 |          nan |        4 | Benjamin Hill |\n",
      "|  545 |   66 | Introduction to Quantum Mechanics I            |         3 |          nan |        5 | Joe Allen     |\n",
      "| 1320 |    9 | Introduction to Modern Physics                 |         3 |          nan |        3 | John Smith    |\n",
      "| 1363 |   37 | Elementary Differential Equations              |         3 |          nan |        3 | Stephen King  |\n",
      "| 1628 |   39 | Introduction to Nuclear and Particle Physics   |         3 |          nan |        5 | Larry Green   |\n",
      "<class 'pandas.core.frame.DataFrame'>\n",
      "RangeIndex: 1881 entries, 0 to 1880\n",
      "Data columns (total 6 columns):\n",
      " #   Column      Non-Null Count  Dtype  \n",
      "---  ------      --------------  -----  \n",
      " 0   id          1881 non-null   int64  \n",
      " 1   name        1879 non-null   object \n",
      " 2   credits     1881 non-null   int64  \n",
      " 3   difficulty  1881 non-null   float64\n",
      " 4   grades      1881 non-null   float64\n",
      " 5   student     1881 non-null   object \n",
      "dtypes: float64(2), int64(2), object(2)\n",
      "memory usage: 88.3+ KB\n"
     ]
    }
   ],
   "source": [
    "# Read the file\n",
    "url = \"https://raw.githubusercontent.com/mt4007-ht23/data/main/exam_data/studentlog.txt\"\n",
    "studentlog = pd.read_table(url)\n",
    "\n",
    "# drop the duplicated index column \"Unnamed: 0\"\n",
    "studentlog = studentlog.drop('Unnamed: 0', axis=1)\n",
    "\n",
    "# We can identify the missing values by running the code below. 6 NA in difficulty, 2 in name and 2 in grade.\n",
    "#studentlog.info()\n",
    "\n",
    "# deal with 6 NA values in column difficulty\n",
    "sorted_studentlog = studentlog.sort_values(by='difficulty', na_position='first')\n",
    "print(sorted_studentlog.head(6).to_markdown())\n",
    "\n",
    "# after run the codes below we get the values to fill the na values\n",
    "#print(studentlog[studentlog['name'] == \"General Physics II – Electricity and Magnetism\"])  5\n",
    "#print(studentlog[studentlog['name'] == \"Introduction to Quantum Mechanics I\"]) 5\n",
    "#print(studentlog[studentlog['name'] == \"Introduction to Modern Physics\"]) 1\n",
    "#print(studentlog[studentlog['name'] == \"Elementary Differential Equations\"]) 2\n",
    "#print(studentlog[studentlog['name'] == \"Introduction to Nuclear and Particle Physics\"]) 5\n",
    "\n",
    "#fill the na values \n",
    "studentlog.iloc[168:, 3] = 5\n",
    "studentlog.iloc[322:, 3] = 5\n",
    "studentlog.iloc[545:, 3] = 5\n",
    "studentlog.iloc[1320:, 3] = 1\n",
    "studentlog.iloc[1363:, 3] = 2\n",
    "studentlog.iloc[1628:, 3] = 5\n",
    "\n",
    "# fill 2 NAs in grade \n",
    "studentlog['grades'] = studentlog['grades'].fillna(0)\n",
    "\n",
    "studentlog.info()"
   ]
  },
  {
   "cell_type": "markdown",
   "id": "77407921",
   "metadata": {},
   "source": [
    "<span style=\"font-size: larger; color: #000;\">&bull;</span> **Create an SQL query that genenrates a Student and Course table**  \n",
    "<span style=\"font-size: larger; color: #000;\">&bull;</span> **Populate the tables with the data from studentlog.txt**   \n",
    "\n",
    "We have created two tables, 'Student' and 'Course,' using a SQL query. Then, we use the to_sql method to populate the SQL tables with data from the Pandas DataFrame we loaded before.  "
   ]
  },
  {
   "cell_type": "code",
   "execution_count": 227,
   "id": "ac67947c",
   "metadata": {},
   "outputs": [
    {
     "data": {
      "text/plain": [
       "1881"
      ]
     },
     "execution_count": 227,
     "metadata": {},
     "output_type": "execute_result"
    }
   ],
   "source": [
    "import sqlite3 as sql\n",
    "\n",
    "# Connect to SQLite in-memory database \n",
    "conn = sql.connect(r\"C:\\Users\\catri\\OneDrive\\文档\\LIWU\\exam\\studentlog.db\")\n",
    "cur = conn.cursor()\n",
    "\n",
    "# Create two tables in the database\n",
    "#cur.execute(\"CREATE TABLE student (id INT PRIMARY KEY,student TEXT,grades INT)\")\n",
    "#cur.execute(\"CREATE TABLE Course (name TEXT,credits INT,difficulty INT, PRIMARY KEY (name, credits))\")\n",
    "\n",
    "# Query to retrieve the list of tables and their schema to know more about the database\n",
    "tables = list(cur.execute(\"SELECT name FROM sqlite_master WHERE type='table';\"))\n",
    "\n",
    "# Create Pandas DataFrames for the two tables\n",
    "student_data = studentlog.iloc[:,[0,5,4]]\n",
    "course_data = studentlog.iloc[:,[1,2,3]]\n",
    "\n",
    "#Use the to_sql method to populate the SQL tables with data\n",
    "student_data.to_sql('student', conn, index=False, if_exists='replace')  # Use if_exists='append' if you want to append to an existing table\n",
    "course_data.to_sql('Course', conn, index=False, if_exists='replace') "
   ]
  },
  {
   "cell_type": "markdown",
   "id": "a8c82dea",
   "metadata": {},
   "source": [
    "<span style=\"font-size: larger; color: #000;\">&bull;</span> **Create a plot that illustrates the most difficult classes. It is up to you to decide what difficult entails. Explain your analysis**  \n",
    "\n",
    "For the most difficult classes or courses, I propose that the 'difficulty' column should have a value of 5, and the average grades obtained by students should be the lowest, indicating the challenging nature of these courses. According to my definition of difficulty, I have identified the final five courses, as shown in the table below. I assume that no plot is needed based on the simplicity of the table.\n"
   ]
  },
  {
   "cell_type": "code",
   "execution_count": 220,
   "id": "5f663a8a",
   "metadata": {},
   "outputs": [
    {
     "name": "stdout",
     "output_type": "stream",
     "text": [
      "|    | name                                     |   grades |\n",
      "|---:|:-----------------------------------------|---------:|\n",
      "|  3 | Classical Mechanics                      |  2.21212 |\n",
      "|  7 | Fundamentals of Analysis II              |  2.21212 |\n",
      "| 13 | Introduction to Modern Physics           |  2.21212 |\n",
      "|  2 | Calculus for Science and Engineering III |  2.21429 |\n",
      "| 17 | Introduction to Solid State Physics      |  2.27907 |\n"
     ]
    }
   ],
   "source": [
    "# Filter courses where difficulty  is equal to 5\n",
    "filtered_studentlog = studentlog[studentlog['difficulty'] == 5]\n",
    "filtered_studentlog.head()\n",
    "\n",
    "result = studentlog.groupby(\"name\", as_index=False)[\"grades\"].mean()\n",
    "sorted_result = result.sort_values(by='grades')\n",
    "difficult_courses = sorted_result.iloc[0:5,:]\n",
    "\n",
    "print(difficult_courses.to_markdown())"
   ]
  },
  {
   "cell_type": "markdown",
   "id": "92de6600",
   "metadata": {},
   "source": [
    "## 6. Algorithmic Trading (10p)\n",
    "did not have enough time to do this part."
   ]
  },
  {
   "cell_type": "code",
   "execution_count": null,
   "id": "ade40114",
   "metadata": {},
   "outputs": [],
   "source": []
  }
 ],
 "metadata": {
  "kernelspec": {
   "display_name": "Python 3 (ipykernel)",
   "language": "python",
   "name": "python3"
  },
  "language_info": {
   "codemirror_mode": {
    "name": "ipython",
    "version": 3
   },
   "file_extension": ".py",
   "mimetype": "text/x-python",
   "name": "python",
   "nbconvert_exporter": "python",
   "pygments_lexer": "ipython3",
   "version": "3.11.3"
  }
 },
 "nbformat": 4,
 "nbformat_minor": 5
}
