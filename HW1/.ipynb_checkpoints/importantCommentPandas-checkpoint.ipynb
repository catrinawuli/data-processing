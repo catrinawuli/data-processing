{
 "cells": [
  {
   "cell_type": "markdown",
   "id": "a1d11dbd",
   "metadata": {},
   "source": [
    "# Homework 2，看注释的文本"
   ]
  },
  {
   "cell_type": "code",
   "execution_count": 7,
   "id": "0fd9bc3a",
   "metadata": {},
   "outputs": [
    {
     "name": "stdout",
     "output_type": "stream",
     "text": [
      "|   listPrice |   rent |   livingArea |   rooms | published           |   constructionYear | objectType   |   booliId | soldDate   |   soldPrice | soldPriceSource   | url                                 |   floor |   additionalArea |   apartmentNumber |   plotArea | location.address.streetAddress   |   location.position.latitude |   location.position.longitude |   location.position.isApproximate | location.region.municipalityName   | location.region.countyName   |   location.distance.ocean | source.name   |   source.id | source.type   | source.url                   |    ppsqm |\n",
      "|------------:|-------:|-------------:|--------:|:--------------------|-------------------:|:-------------|----------:|:-----------|------------:|:------------------|:------------------------------------|--------:|-----------------:|------------------:|-----------:|:---------------------------------|-----------------------------:|------------------------------:|----------------------------------:|:-----------------------------------|:-----------------------------|--------------------------:|:--------------|------------:|:--------------|:-----------------------------|---------:|\n",
      "|     1595000 |   1464 |         24   |       1 | 2016-01-07 14:51:06 |               1935 | Lägenhet     |   2018259 | 2016-01-21 |     2500000 | bid               | https://www.booli.se/annons/2018259 |       3 |              nan |              1305 |        nan | Ekhagsvägen 8                    |                      59.3718 |                       18.0553 |                               nan | Stockholm                          | Stockholms län               |                       161 | Notar         |        1566 | Broker        | http://www.notar.se/         | 104167   |\n",
      "|     1890000 |   1464 |         24   |       1 | 2016-06-11 08:55:51 |               1935 | Lägenhet     |   2125576 | 2016-06-21 |     2450000 | bid               | https://www.booli.se/annons/2125576 |       3 |              nan |              1305 |        nan | Ekhagsvägen 8                    |                      59.3718 |                       18.0553 |                               nan | Stockholm                          | Stockholms län               |                       161 | HusmanHagberg |        1610 | Broker        | http://www.husmanhagberg.se/ | 102083   |\n",
      "|     1795000 |   1374 |         23   |       1 | 2016-04-15 19:10:49 |               1935 | Lägenhet     |   2078171 | 2016-04-28 |     2300000 | bid               | https://www.booli.se/annons/2078171 |       1 |              nan |              1105 |        nan | Ekhagsvägen 10                   |                      59.372  |                       18.0554 |                                 1 | Stockholm                          | Stockholms län               |                       135 | Notar         |        1566 | Broker        | http://www.notar.se/         | 100000   |\n",
      "|     1750000 |   1144 |         25   |       1 | 2017-05-18 16:20:57 |               1936 | Lägenhet     |   2330886 | 2017-06-01 |     2210000 | bid               | https://www.booli.se/annons/2330886 |       0 |                0 |               nan |        nan | Torphagsvägen 4                  |                      59.3715 |                       18.0539 |                               nan | Stockholm                          | Stockholms län               |                       218 | HusmanHagberg |        1610 | Broker        | http://www.husmanhagberg.se/ |  88400   |\n",
      "|     1895000 |   1522 |         26.9 |       1 | 2016-04-01 22:56:37 |               1968 | Lägenhet     |   2067384 | 2016-04-19 |     2300000 | bid               | https://www.booli.se/annons/2067384 |       2 |              nan |              1203 |        nan | Docentbacken 1B                  |                      59.3706 |                       18.0585 |                                 1 | Stockholm                          | Stockholms län               |                       298 | Notar         |        1566 | Broker        | http://www.notar.se/         |  85501.9 |\n"
     ]
    }
   ],
   "source": [
    "import pandas as pd\n",
    "import matplotlib.pyplot as plt \n",
    "\n",
    "# 读CSV这里只要下载到python文件所在的同一个文件夹，代码里直接写文件名就可以，如下\n",
    "# 另外一种是从网上读CSV，在下面The Swedish Election 里。\n",
    "\n",
    "# download the csv file to local folder, then read it\n",
    "ApartmentPrice = pd.read_csv(\"Booli_sold.csv\")\n",
    "\n",
    "#pyton没有批量注释的快捷键，可以用\"\"\"...\"\"\"进行多行注释，但是也要注意缩进。python代码关系是由缩进实现的。\n",
    "\n",
    "\n",
    "# 用两个不同的函数来增加新的一列，且这列的值是由表里的其他列计算出来的。 insert 和 loc结果一样。\n",
    "#insert\n",
    "#insert主要是以系统里数字的index，对表格进行更改，可以指定具体的index\n",
    "#loc\n",
    "#loc是对表格给出的栏的名字进行相应更改。\n",
    "\n",
    "\n",
    "# create a new column derived from existing columns and insert it in the first column.\n",
    "# ApartmentPrice.insert(0, 'ppsqm', round(ApartmentPrice[\"soldPrice\"]/ApartmentPrice[\"livingArea\"],2)) \n",
    "ApartmentPrice.loc[:,\"ppsqm\"] = round(ApartmentPrice[\"soldPrice\"]/ApartmentPrice[\"livingArea\"],2)\n",
    "\n",
    "topFive = ApartmentPrice.sort_values(\"ppsqm\", ascending = False).head()\n",
    "\n",
    "# 下面这个代码在转为.md后，打印出来是个简单的表格。\n",
    "print(topFive.to_markdown(index=False))"
   ]
  },
  {
   "cell_type": "code",
   "execution_count": 8,
   "id": "0aa5a969",
   "metadata": {},
   "outputs": [
    {
     "name": "stdout",
     "output_type": "stream",
     "text": [
      "The avereage price per square meter in Ekhagen is  58759.38\n"
     ]
    }
   ],
   "source": [
    "# use the 'mean' function to calculate the average ppsqm.\n",
    "mean =  round(ApartmentPrice[\"ppsqm\"].mean(),2)\n",
    "print(\"The avereage price per square meter in Ekhagen is \",mean)\n",
    "# create a new DataFrame containing only the top five records. "
   ]
  },
  {
   "cell_type": "code",
   "execution_count": 9,
   "id": "4f18db05",
   "metadata": {},
   "outputs": [
    {
     "name": "stdout",
     "output_type": "stream",
     "text": [
      "The number of legitimate votes for all municipalities in Stockholm is 1426237\n"
     ]
    }
   ],
   "source": [
    "# read csv file directly from the webside.\n",
    "url = \"https://raw.githubusercontent.com/mt4007-ht23/data/main/2018_R_per_kommun.csv\"\n",
    "swedishElection2018= pd.read_csv(url, sep=\";\", decimal=',')\n",
    "\n",
    "# task 1: First, group the data by 'LÄNSNAMN,' then sum up the column 'RÖSTER GILTIGA' and select the data for 'Stockholms län' \n",
    "votesGrouped = swedishElection2018.groupby(\"LÄNSNAMN\")\n",
    "votesGroupedSum = votesGrouped[\"RÖSTER GILTIGA\"].sum()\n",
    "votesInStockholm_sum = votesGroupedSum.loc['Stockholms län']\n",
    "print(\"The number of legitimate votes for all municipalities in Stockholm is\" , votesInStockholm_sum )"
   ]
  },
  {
   "cell_type": "code",
   "execution_count": 10,
   "id": "d7204c53",
   "metadata": {},
   "outputs": [
    {
     "data": {
      "text/html": [
       "<div>\n",
       "<style scoped>\n",
       "    .dataframe tbody tr th:only-of-type {\n",
       "        vertical-align: middle;\n",
       "    }\n",
       "\n",
       "    .dataframe tbody tr th {\n",
       "        vertical-align: top;\n",
       "    }\n",
       "\n",
       "    .dataframe thead th {\n",
       "        text-align: right;\n",
       "    }\n",
       "</style>\n",
       "<table border=\"1\" class=\"dataframe\">\n",
       "  <thead>\n",
       "    <tr style=\"text-align: right;\">\n",
       "      <th></th>\n",
       "      <th>LÄNSKOD</th>\n",
       "      <th>KOMMUNKOD</th>\n",
       "      <th>LÄNSNAMN</th>\n",
       "      <th>KOMMUNNAMN</th>\n",
       "      <th>M</th>\n",
       "      <th>C</th>\n",
       "      <th>L</th>\n",
       "      <th>KD</th>\n",
       "      <th>S</th>\n",
       "      <th>V</th>\n",
       "      <th>...</th>\n",
       "      <th>TRP</th>\n",
       "      <th>VL-S</th>\n",
       "      <th>ÖVR</th>\n",
       "      <th>OGEJ</th>\n",
       "      <th>BLANK</th>\n",
       "      <th>OG</th>\n",
       "      <th>RÖSTER GILTIGA</th>\n",
       "      <th>RÖSTANDE</th>\n",
       "      <th>RÖSTBERÄTTIGADE</th>\n",
       "      <th>VALDELTAGANDE</th>\n",
       "    </tr>\n",
       "  </thead>\n",
       "  <tbody>\n",
       "    <tr>\n",
       "      <th>188</th>\n",
       "      <td>17</td>\n",
       "      <td>62</td>\n",
       "      <td>Värmlands län</td>\n",
       "      <td>Munkfors</td>\n",
       "      <td>8.33</td>\n",
       "      <td>8.12</td>\n",
       "      <td>2.91</td>\n",
       "      <td>3.93</td>\n",
       "      <td>52.18</td>\n",
       "      <td>6.11</td>\n",
       "      <td>...</td>\n",
       "      <td>NaN</td>\n",
       "      <td>NaN</td>\n",
       "      <td>NaN</td>\n",
       "      <td>NaN</td>\n",
       "      <td>1.02</td>\n",
       "      <td>NaN</td>\n",
       "      <td>2340</td>\n",
       "      <td>2364</td>\n",
       "      <td>2777</td>\n",
       "      <td>85.13</td>\n",
       "    </tr>\n",
       "  </tbody>\n",
       "</table>\n",
       "<p>1 rows × 45 columns</p>\n",
       "</div>"
      ],
      "text/plain": [
       "     LÄNSKOD  KOMMUNKOD       LÄNSNAMN KOMMUNNAMN     M     C     L    KD  \\\n",
       "188       17         62  Värmlands län   Munkfors  8.33  8.12  2.91  3.93   \n",
       "\n",
       "         S     V  ...  TRP  VL-S  ÖVR  OGEJ  BLANK  OG  RÖSTER GILTIGA  \\\n",
       "188  52.18  6.11  ...  NaN   NaN  NaN   NaN   1.02 NaN            2340   \n",
       "\n",
       "     RÖSTANDE  RÖSTBERÄTTIGADE  VALDELTAGANDE  \n",
       "188      2364             2777          85.13  \n",
       "\n",
       "[1 rows x 45 columns]"
      ]
     },
     "execution_count": 10,
     "metadata": {},
     "output_type": "execute_result"
    }
   ],
   "source": [
    "# task 2: The highest voting percentage is observed in Munkfors municipality.\n",
    "# loc[:,[\"KOMMUNNAMN\",\"VALDELTAGANDE\"]] 这里是说选左右的行，列只选[\"KOMMUNNAMN\",\"VALDELTAGANDE\"]，所以逗号前面是行的index，后面是列的index。\n",
    "VALDELTAGANDE = swedishElection2018.loc[:,[\"KOMMUNNAMN\",\"VALDELTAGANDE\"]]\n",
    "swedishElection2018.sort_values(\"S\", ascending = False).head(1)"
   ]
  },
  {
   "cell_type": "code",
   "execution_count": 11,
   "id": "0112fe42",
   "metadata": {},
   "outputs": [
    {
     "data": {
      "text/html": [
       "<div>\n",
       "<style scoped>\n",
       "    .dataframe tbody tr th:only-of-type {\n",
       "        vertical-align: middle;\n",
       "    }\n",
       "\n",
       "    .dataframe tbody tr th {\n",
       "        vertical-align: top;\n",
       "    }\n",
       "\n",
       "    .dataframe thead th {\n",
       "        text-align: right;\n",
       "    }\n",
       "</style>\n",
       "<table border=\"1\" class=\"dataframe\">\n",
       "  <thead>\n",
       "    <tr style=\"text-align: right;\">\n",
       "      <th></th>\n",
       "      <th>KOMMUNNAMN</th>\n",
       "      <th>VALDELTAGANDE</th>\n",
       "    </tr>\n",
       "  </thead>\n",
       "  <tbody>\n",
       "    <tr>\n",
       "      <th>103</th>\n",
       "      <td>Lomma</td>\n",
       "      <td>93.86</td>\n",
       "    </tr>\n",
       "    <tr>\n",
       "      <th>59</th>\n",
       "      <td>Habo</td>\n",
       "      <td>93.35</td>\n",
       "    </tr>\n",
       "    <tr>\n",
       "      <th>98</th>\n",
       "      <td>Vellinge</td>\n",
       "      <td>93.13</td>\n",
       "    </tr>\n",
       "  </tbody>\n",
       "</table>\n",
       "</div>"
      ],
      "text/plain": [
       "    KOMMUNNAMN  VALDELTAGANDE\n",
       "103      Lomma          93.86\n",
       "59        Habo          93.35\n",
       "98    Vellinge          93.13"
      ]
     },
     "execution_count": 11,
     "metadata": {},
     "output_type": "execute_result"
    }
   ],
   "source": [
    "# task 3: sort the values at a descending order, then select the top 3 records. \n",
    "VALDELTAGANDE.sort_values(\"VALDELTAGANDE\", ascending = False).head(3)"
   ]
  },
  {
   "cell_type": "code",
   "execution_count": null,
   "id": "37711d15",
   "metadata": {},
   "outputs": [],
   "source": []
  },
  {
   "cell_type": "code",
   "execution_count": null,
   "id": "e707ebb7",
   "metadata": {},
   "outputs": [],
   "source": []
  }
 ],
 "metadata": {
  "kernelspec": {
   "display_name": "Python 3 (ipykernel)",
   "language": "python",
   "name": "python3"
  },
  "language_info": {
   "codemirror_mode": {
    "name": "ipython",
    "version": 3
   },
   "file_extension": ".py",
   "mimetype": "text/x-python",
   "name": "python",
   "nbconvert_exporter": "python",
   "pygments_lexer": "ipython3",
   "version": "3.11.3"
  }
 },
 "nbformat": 4,
 "nbformat_minor": 5
}
