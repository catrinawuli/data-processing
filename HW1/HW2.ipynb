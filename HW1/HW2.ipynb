{
 "cells": [
  {
   "cell_type": "markdown",
   "id": "2d6a57ac",
   "metadata": {},
   "source": [
    "# Homework 2\n",
    "\n",
    "## Apartment Prices\n",
    "\n",
    "In our apartment price analysis, I started by creating a new column that represents the price per square meter (ppsqm). This was done by dividing the 'soldPrice' by the 'livingArea.' Notably, I inserted this new column as the first one in the table.\n",
    "\n",
    "Next, I sorted the table based on the 'ppsqm' column and displayed the top five entries with the highest prices, as requested.\n",
    "\n",
    "For the apartments located in Ekhagen, I used the 'mean' function to calculate the average ppsqm. I find the 'mean' function particularly intriguing because it simplifies the process of obtaining summary statistics from the data. Additionally, exploring different functions and methods in data analysis can lead to more efficient and effective ways of extracting insights from the dataset.\""
   ]
  },
  {
   "cell_type": "code",
   "execution_count": 26,
   "id": "951ef98b",
   "metadata": {},
   "outputs": [
    {
     "name": "stdout",
     "output_type": "stream",
     "text": [
      "|    ppsqm |   listPrice |   rent |   livingArea |   rooms | published           |   constructionYear | objectType   |   booliId | soldDate   |   soldPrice | soldPriceSource   | url                                 |   floor |   additionalArea |   apartmentNumber |   plotArea | location.address.streetAddress   |   location.position.latitude |   location.position.longitude |   location.position.isApproximate | location.region.municipalityName   | location.region.countyName   |   location.distance.ocean | source.name   |   source.id | source.type   | source.url                   |\n",
      "|---------:|------------:|-------:|-------------:|--------:|:--------------------|-------------------:|:-------------|----------:|:-----------|------------:|:------------------|:------------------------------------|--------:|-----------------:|------------------:|-----------:|:---------------------------------|-----------------------------:|------------------------------:|----------------------------------:|:-----------------------------------|:-----------------------------|--------------------------:|:--------------|------------:|:--------------|:-----------------------------|\n",
      "| 104167   |     1595000 |   1464 |         24   |       1 | 2016-01-07 14:51:06 |               1935 | Lägenhet     |   2018259 | 2016-01-21 |     2500000 | bid               | https://www.booli.se/annons/2018259 |       3 |              nan |              1305 |        nan | Ekhagsvägen 8                    |                      59.3718 |                       18.0553 |                               nan | Stockholm                          | Stockholms län               |                       161 | Notar         |        1566 | Broker        | http://www.notar.se/         |\n",
      "| 102083   |     1890000 |   1464 |         24   |       1 | 2016-06-11 08:55:51 |               1935 | Lägenhet     |   2125576 | 2016-06-21 |     2450000 | bid               | https://www.booli.se/annons/2125576 |       3 |              nan |              1305 |        nan | Ekhagsvägen 8                    |                      59.3718 |                       18.0553 |                               nan | Stockholm                          | Stockholms län               |                       161 | HusmanHagberg |        1610 | Broker        | http://www.husmanhagberg.se/ |\n",
      "| 100000   |     1795000 |   1374 |         23   |       1 | 2016-04-15 19:10:49 |               1935 | Lägenhet     |   2078171 | 2016-04-28 |     2300000 | bid               | https://www.booli.se/annons/2078171 |       1 |              nan |              1105 |        nan | Ekhagsvägen 10                   |                      59.372  |                       18.0554 |                                 1 | Stockholm                          | Stockholms län               |                       135 | Notar         |        1566 | Broker        | http://www.notar.se/         |\n",
      "|  88400   |     1750000 |   1144 |         25   |       1 | 2017-05-18 16:20:57 |               1936 | Lägenhet     |   2330886 | 2017-06-01 |     2210000 | bid               | https://www.booli.se/annons/2330886 |       0 |                0 |               nan |        nan | Torphagsvägen 4                  |                      59.3715 |                       18.0539 |                               nan | Stockholm                          | Stockholms län               |                       218 | HusmanHagberg |        1610 | Broker        | http://www.husmanhagberg.se/ |\n",
      "|  85501.9 |     1895000 |   1522 |         26.9 |       1 | 2016-04-01 22:56:37 |               1968 | Lägenhet     |   2067384 | 2016-04-19 |     2300000 | bid               | https://www.booli.se/annons/2067384 |       2 |              nan |              1203 |        nan | Docentbacken 1B                  |                      59.3706 |                       18.0585 |                                 1 | Stockholm                          | Stockholms län               |                       298 | Notar         |        1566 | Broker        | http://www.notar.se/         |\n"
     ]
    }
   ],
   "source": [
    "import pandas as pd\n",
    "import matplotlib.pyplot as plt \n",
    "\n",
    "# download the csv file to local folder, then read it\n",
    "ApartmentPrice = pd.read_csv(\"Booli_sold.csv\")\n",
    "\n",
    "# create a new column derived from existing columns and insert it in the first column.\n",
    "ApartmentPrice.insert(0, 'ppsqm', round(ApartmentPrice[\"soldPrice\"]/ApartmentPrice[\"livingArea\"],2)) \n",
    "\n",
    "topFive = ApartmentPrice.sort_values(\"ppsqm\", ascending = False).head()\n",
    "print(topFive.to_markdown(index=False))"
   ]
  },
  {
   "cell_type": "code",
   "execution_count": 27,
   "id": "ac42d28c",
   "metadata": {},
   "outputs": [
    {
     "name": "stdout",
     "output_type": "stream",
     "text": [
      "The avereage price per square meter in Ekhagen is  58759.38\n"
     ]
    }
   ],
   "source": [
    "# use the 'mean' function to calculate the average ppsqm.\n",
    "mean =  round(ApartmentPrice[\"ppsqm\"].mean(),2)\n",
    "print(\"The avereage price per square meter in Ekhagen is \",mean)\n",
    "# create a new DataFrame containing only the top five records. "
   ]
  },
  {
   "cell_type": "markdown",
   "id": "be97c15f",
   "metadata": {},
   "source": [
    "# The Swedish Election of 2018"
   ]
  },
  {
   "cell_type": "code",
   "execution_count": 28,
   "id": "3d36c0f6",
   "metadata": {},
   "outputs": [
    {
     "name": "stdout",
     "output_type": "stream",
     "text": [
      "The number of legitimate votes for all municipalities in Stockholm is 1426237\n"
     ]
    }
   ],
   "source": [
    "# read csv file directly from the webside.\n",
    "url = \"https://raw.githubusercontent.com/mt4007-ht23/data/main/2018_R_per_kommun.csv\"\n",
    "swedishElection2018= pd.read_csv(url, sep=\";\", decimal=',')\n",
    "\n",
    "# task 1: First, group the data by 'LÄNSNAMN,' then sum up the column 'RÖSTER GILTIGA' and select the data for 'Stockholms län' \n",
    "votesGrouped = swedishElection2018.groupby(\"LÄNSNAMN\")\n",
    "votesGroupedSum = votesGrouped[\"RÖSTER GILTIGA\"].sum()\n",
    "votesInStockholm_sum = votesGroupedSum.loc['Stockholms län']\n",
    "print(\"The number of legitimate votes for all municipalities in Stockholm is\" , votesInStockholm_sum )"
   ]
  },
  {
   "cell_type": "code",
   "execution_count": 29,
   "id": "e15e9bc9",
   "metadata": {},
   "outputs": [
    {
     "name": "stdout",
     "output_type": "stream",
     "text": [
      "|   LÄNSKOD |   KOMMUNKOD | LÄNSNAMN      | KOMMUNNAMN   |    M |    C |    L |   KD |     S |    V |   MP |    SD |   FI |   AfS |   BASIP |   CSIS |   DD |   DjuP |   EAP |   ENH |   FHS |   Gup |   INI |   KLP |   KrVP |   LPo |   MED |   NMR |   NORRP |   NYREF |   PP |   RNP |   S-FRP |   SKP |   SKÅ |   TRP |   VL-S |   ÖVR |   OGEJ |   BLANK |   OG |   RÖSTER GILTIGA |   RÖSTANDE |   RÖSTBERÄTTIGADE |   VALDELTAGANDE |\n",
      "|----------:|------------:|:--------------|:-------------|-----:|-----:|-----:|-----:|------:|-----:|-----:|------:|-----:|------:|--------:|-------:|-----:|-------:|------:|------:|------:|------:|------:|------:|-------:|------:|------:|------:|--------:|--------:|-----:|------:|--------:|------:|------:|------:|-------:|------:|-------:|--------:|-----:|-----------------:|-----------:|------------------:|----------------:|\n",
      "|        17 |          62 | Värmlands län | Munkfors     | 8.33 | 8.12 | 2.91 | 3.93 | 52.18 | 6.11 | 1.37 | 15.43 | 0.64 |  0.51 |    0.04 |    nan |  nan |    nan |   nan |  0.04 |   nan |   nan |   nan |  0.04 |    nan |  0.09 |  0.04 |  0.09 |     nan |     nan | 0.09 |   nan |     nan |   nan |  0.04 |   nan |    nan |   nan |    nan |    1.02 |  nan |             2340 |       2364 |              2777 |           85.13 |\n"
     ]
    }
   ],
   "source": [
    "# task 2: The highest voting percentage is observed in Munkfors municipality.\n",
    "VALDELTAGANDE = swedishElection2018.loc[:,[\"KOMMUNNAMN\",\"VALDELTAGANDE\"]]\n",
    "NO_1Percentage = swedishElection2018.sort_values(\"S\", ascending = False).head(1)\n",
    "print(NO_1Percentage.to_markdown(index=False))"
   ]
  },
  {
   "cell_type": "code",
   "execution_count": 30,
   "id": "c53f8558",
   "metadata": {},
   "outputs": [
    {
     "name": "stdout",
     "output_type": "stream",
     "text": [
      "| KOMMUNNAMN   |   VALDELTAGANDE |\n",
      "|:-------------|----------------:|\n",
      "| Lomma        |           93.86 |\n",
      "| Habo         |           93.35 |\n",
      "| Vellinge     |           93.13 |\n"
     ]
    }
   ],
   "source": [
    "# task 3: sort the values at a descending order, then select the top 3 records. \n",
    "topThreeVALDELTAGANDE = VALDELTAGANDE.sort_values(\"VALDELTAGANDE\", ascending = False).head(3)\n",
    "print(topThreeVALDELTAGANDE.to_markdown(index=False))"
   ]
  }
 ],
 "metadata": {
  "kernelspec": {
   "display_name": "Python 3 (ipykernel)",
   "language": "python",
   "name": "python3"
  },
  "language_info": {
   "codemirror_mode": {
    "name": "ipython",
    "version": 3
   },
   "file_extension": ".py",
   "mimetype": "text/x-python",
   "name": "python",
   "nbconvert_exporter": "python",
   "pygments_lexer": "ipython3",
   "version": "3.11.3"
  }
 },
 "nbformat": 4,
 "nbformat_minor": 5
}
