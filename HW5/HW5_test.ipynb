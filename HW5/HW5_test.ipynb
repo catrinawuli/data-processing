{
 "cells": [
  {
   "cell_type": "code",
   "execution_count": 1,
   "id": "6b80af4e",
   "metadata": {},
   "outputs": [],
   "source": [
    "import pandas as pd\n",
    "# The sqlite3 module provides a Python interface for SQLite databases.\n",
    "import sqlite3 as sql\n",
    "import re"
   ]
  },
  {
   "cell_type": "markdown",
   "id": "a84a7617",
   "metadata": {},
   "source": [
    "## SQL"
   ]
  },
  {
   "cell_type": "code",
   "execution_count": 2,
   "id": "b98c189b",
   "metadata": {},
   "outputs": [],
   "source": [
    "# 下载下来到本地方便些，要不代码看起来怪怪的\n",
    "# remote_database_url = 'your_remote_database_url'\n",
    "# conn = sql.connect(f\"jdbc:sqlite:{remote_database_url}\")\n",
    "conn = sql.connect(r\"C:\\Users\\catri\\OneDrive\\文档\\LIWU\\HW5\\user_actions.db\")\n",
    "\n",
    "# a cursor is a database object that facilitates the interaction with the database by allowing the execution of SQL queries, \n",
    "#fetching results, and providing a mechanism for navigation and manipulation of data. 要转成cursor才能用SQL的命令\n",
    "cur = conn.cursor()"
   ]
  },
  {
   "cell_type": "code",
   "execution_count": 3,
   "id": "56e55650",
   "metadata": {},
   "outputs": [
    {
     "data": {
      "text/plain": [
       "[('user_actions',\n",
       "  'CREATE TABLE user_actions (\\n    user_id INTEGER,\\n    username TEXT,\\n    email TEXT,\\n    action TEXT,\\n    timestamp TEXT\\n)')]"
      ]
     },
     "execution_count": 3,
     "metadata": {},
     "output_type": "execute_result"
    }
   ],
   "source": [
    "# Query to retrieve the list of tables\n",
    "tables = list(cur.execute(\"SELECT name FROM sqlite_master WHERE type='table';\"))\n",
    "\n",
    "tables\n",
    "\n",
    "schema = list(cur.execute(\"SELECT name, sql FROM sqlite_master WHERE type='table';\"))\n",
    "schema\n"
   ]
  },
  {
   "cell_type": "code",
   "execution_count": 4,
   "id": "661fc24a",
   "metadata": {},
   "outputs": [],
   "source": [
    "#连接完数据库关掉很重要，1是保护资源，2接口有时候是有限制的，\n",
    "query = \"SELECT * FROM user_actions;\"\n",
    "user_actions = list(cur.execute(query))"
   ]
  },
  {
   "cell_type": "code",
   "execution_count": 5,
   "id": "eccc65ae",
   "metadata": {},
   "outputs": [
    {
     "data": {
      "text/html": [
       "<div>\n",
       "<style scoped>\n",
       "    .dataframe tbody tr th:only-of-type {\n",
       "        vertical-align: middle;\n",
       "    }\n",
       "\n",
       "    .dataframe tbody tr th {\n",
       "        vertical-align: top;\n",
       "    }\n",
       "\n",
       "    .dataframe thead th {\n",
       "        text-align: right;\n",
       "    }\n",
       "</style>\n",
       "<table border=\"1\" class=\"dataframe\">\n",
       "  <thead>\n",
       "    <tr style=\"text-align: right;\">\n",
       "      <th></th>\n",
       "      <th>0</th>\n",
       "      <th>1</th>\n",
       "      <th>2</th>\n",
       "      <th>3</th>\n",
       "      <th>4</th>\n",
       "    </tr>\n",
       "  </thead>\n",
       "  <tbody>\n",
       "    <tr>\n",
       "      <th>0</th>\n",
       "      <td>34</td>\n",
       "      <td>user34</td>\n",
       "      <td>user34@email.com</td>\n",
       "      <td>signup</td>\n",
       "      <td>2015-02-04 14:38:47</td>\n",
       "    </tr>\n",
       "    <tr>\n",
       "      <th>1</th>\n",
       "      <td>28</td>\n",
       "      <td>user28</td>\n",
       "      <td>user28@email.com</td>\n",
       "      <td>signup</td>\n",
       "      <td>2015-03-09 11:55:33</td>\n",
       "    </tr>\n",
       "    <tr>\n",
       "      <th>2</th>\n",
       "      <td>27</td>\n",
       "      <td>user27</td>\n",
       "      <td>user27@email.com</td>\n",
       "      <td>login</td>\n",
       "      <td>2015-04-17 14:48:31</td>\n",
       "    </tr>\n",
       "    <tr>\n",
       "      <th>3</th>\n",
       "      <td>27</td>\n",
       "      <td>user27</td>\n",
       "      <td>user27@email.com</td>\n",
       "      <td>login</td>\n",
       "      <td>2015-04-21 13:22:14</td>\n",
       "    </tr>\n",
       "    <tr>\n",
       "      <th>4</th>\n",
       "      <td>27</td>\n",
       "      <td>user27</td>\n",
       "      <td>user27@email.com</td>\n",
       "      <td>reset_password</td>\n",
       "      <td>2015-04-25 16:30:15</td>\n",
       "    </tr>\n",
       "  </tbody>\n",
       "</table>\n",
       "</div>"
      ],
      "text/plain": [
       "    0       1                 2               3                    4\n",
       "0  34  user34  user34@email.com          signup  2015-02-04 14:38:47\n",
       "1  28  user28  user28@email.com          signup  2015-03-09 11:55:33\n",
       "2  27  user27  user27@email.com           login  2015-04-17 14:48:31\n",
       "3  27  user27  user27@email.com           login  2015-04-21 13:22:14\n",
       "4  27  user27  user27@email.com  reset_password  2015-04-25 16:30:15"
      ]
     },
     "execution_count": 5,
     "metadata": {},
     "output_type": "execute_result"
    }
   ],
   "source": [
    "user_actions_df = pd.DataFrame(user_actions)\n",
    "user_actions_df.head()"
   ]
  },
  {
   "cell_type": "code",
   "execution_count": 6,
   "id": "4d424ec9",
   "metadata": {},
   "outputs": [],
   "source": [
    "#Retrieve the usernames of all users who have performed the \"signup\" action.\n",
    "\n",
    "query = \"SELECT username FROM user_actions WHERE action = 'signup';\"#signup那里之前用双引号就不行。\n",
    "user_name_signup = list(cur.execute(query))\n",
    "#user_name_signup"
   ]
  },
  {
   "cell_type": "code",
   "execution_count": 7,
   "id": "6f4f50d6",
   "metadata": {},
   "outputs": [],
   "source": [
    "# Find the total number of log entries(登录的次数，我理解) for each user. Display the user_id, username, and the count of log entries.\n",
    "query = \"SELECT user_id, username,COUNT(*) AS total_entries FROM user_actions GROUP BY user_id;\" #这里为什么名字没打印出来，AS 在这里没用到\n",
    "user_name_logEntries = list(cur.execute(query))\n",
    "#user_name_logEntries"
   ]
  },
  {
   "cell_type": "code",
   "execution_count": 8,
   "id": "7d0e8ce8",
   "metadata": {},
   "outputs": [],
   "source": [
    "# Identify users who have both logged in (action = 'login') and signed up (action = 'signup') on the same day. \n",
    "# Display the user_id and username.这个要好好总结，不是GDP完全不会。拆分下一个一个总结\n",
    "query = \"SELECT user_id, username FROM user_actions WHERE action IN ('login', 'signup') GROUP BY user_id, username, DATE(timestamp) HAVING COUNT(DISTINCT action) = 2 ;\" \n",
    "query3 = list(cur.execute(query))\n",
    "#query3"
   ]
  },
  {
   "cell_type": "markdown",
   "id": "25a06e57",
   "metadata": {},
   "source": [
    "## Regex"
   ]
  },
  {
   "cell_type": "code",
   "execution_count": 33,
   "id": "27a8d2a7",
   "metadata": {},
   "outputs": [
    {
     "name": "stdout",
     "output_type": "stream",
     "text": [
      ">>>All hashtags: ['#programming', '#tips', '#coding', '#python', '#tech', '#data', '#programming', '#coding', '#data', '#analysis', '#programming', '#python', '#tips', '#tech', '#innovation', '#coding', '#python', '#data', '#analytics', '#programming', '#tips', '#coding', '#python', '#tech', '#data', '#programming', '#coding', '#data', '#insights', '#programming', '#python', '#tips', '#tech', '#research', '#coding', '#python', '#data', '#analytics', '#programming', '#tips', '#coding', '#innovation', '#programming', '#python', '#tips', '#tech', '#data', '#coding', '#python', '#data', '#analytics', '#programming', '#tips', '#coding', '#python', '#tech', '#innovation', '#programming', '#coding', '#data', '#analytics', '#programming', '#python', '#tips', '#coding', '#innovation', '#tech', '#data', '#programming', '#tips', '#coding', '#python', '#data', '#analysis', '#programming', '#tips', '#coding', '#python', '#tech', '#innovation', '#programming', '#coding', '#data', '#analytics', '#programming', '#tips', '#coding', '#python', '#data', '#analysis', '#programming', '#tips', '#coding', '#python', '#tech', '#innovation', '#programming', '#coding', '#data', '#analytics', '#programming', '#tips', '#coding', '#python', '#tech', '#innovation', '#programming', '#coding', '#data', '#analytics', '#programming', '#tips', '#coding', '#python', '#tech', '#innovation', '#programming', '#coding', '#data', '#analytics', '#programming', '#tips', '#coding', '#python', '#tech', '#innovation', '#programming', '#coding', '#data', '#analytics', '#programming', '#tips', '#coding', '#python', '#tech', '#innovation', '#programming', '#coding', '#data', '#analytics', '#programming', '#tips', '#coding', '#python', '#tech', '#innovation', '#programming', '#coding', '#data', '#analytics', '#programming', '#tips', '#coding', '#python', '#tech', '#innovation', '#programming', '#coding', '#data', '#analytics', '#programming', '#tips', '#coding', '#python', '#tech', '#innovation', '#programming', '#coding', '#data', '#analytics', '#programming', '#tips', '#coding', '#python', '#tech', '#innovation', '#programming', '#coding', '#data', '#analytics', '#programming', '#tips', '#coding', '#python', '#tech', '#innovation', '#programming', '#coding', '#data', '#analytics', '#programming', '#tips', '#coding', '#python', '#tech', '#innovation', '#programming', '#coding', '#data', '#analytics', '#programming', '#tips', '#coding', '#python']\n",
      ">>>Comments contain both #programming and #python is 6 15 21 30 \n",
      ">>>2nd comment does not contains both #programming and #python\n"
     ]
    }
   ],
   "source": [
    "#Write a regular expression to extract all hashtags from a given comment. \n",
    "#For example, applying the regex to comment 1 should return [\"#programming\", \"#tips\"].\n",
    "\n",
    "textfile = open(\"comments.txt\", 'r')\n",
    "matches_flat = []\n",
    "matches_dict = {}\n",
    "reg = re.compile(r'(#[\\w]+)[\\s|\"]')\n",
    "for line_num, line in enumerate(textfile):\n",
    "    matches = reg.findall(line)\n",
    "    matches_flat += matches\n",
    "    matches_dict[line_num] = matches\n",
    "    line_num += 1\n",
    "print(f\">>>All hashtags: {matches_flat}\")\n",
    "\n",
    "textfile.seek(0)\n",
    "reg2 = re.compile(r'^(?=.*\\#programming\\b)(?=.*\\#python\\b).*$')\n",
    "print(\">>>Comments contain both #programming and #python is\", end = \" \")\n",
    "for line_num, line in enumerate(textfile):\n",
    "    line_num += 1\n",
    "    matches = reg2.findall(line)\n",
    "    if matches:\n",
    "        print(line_num, end= \" \")\n",
    "\n",
    "textfile.seek(0)\n",
    "line2 = textfile.readlines()[1]\n",
    "print(f\"\\n>>>2nd comment {'' if reg2.findall(line2) else 'does not'} contains both #programming and #python\")\n",
    "\n",
    "\n",
    "#print(f\">>>Uniq hastags: {list(set(matches_flat))}\")"
   ]
  },
  {
   "cell_type": "code",
   "execution_count": null,
   "id": "7c8232ae",
   "metadata": {},
   "outputs": [],
   "source": []
  }
 ],
 "metadata": {
  "kernelspec": {
   "display_name": "Python 3 (ipykernel)",
   "language": "python",
   "name": "python3"
  },
  "language_info": {
   "codemirror_mode": {
    "name": "ipython",
    "version": 3
   },
   "file_extension": ".py",
   "mimetype": "text/x-python",
   "name": "python",
   "nbconvert_exporter": "python",
   "pygments_lexer": "ipython3",
   "version": "3.11.3"
  }
 },
 "nbformat": 4,
 "nbformat_minor": 5
}
