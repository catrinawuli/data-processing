{
 "cells": [
  {
   "cell_type": "code",
   "execution_count": 36,
   "id": "4abe00b2",
   "metadata": {},
   "outputs": [],
   "source": [
    "import pandas as pd\n",
    "import sqlite3 as sql\n",
    "import re"
   ]
  },
  {
   "cell_type": "markdown",
   "id": "6be74b62",
   "metadata": {},
   "source": [
    "##  SQL"
   ]
  },
  {
   "cell_type": "code",
   "execution_count": 37,
   "id": "93441d95",
   "metadata": {},
   "outputs": [],
   "source": [
    "# create a connection with the database and create cursor that facilitates the interaction with the database\n",
    "conn = sql.connect(r\"C:\\Users\\catri\\OneDrive\\文档\\LIWU\\HW5\\user_actions.db\")\n",
    "cur = conn.cursor()\n",
    "\n",
    "# Query to retrieve the list of tables and their schema to know more about the database\n",
    "tables = list(cur.execute(\"SELECT name FROM sqlite_master WHERE type='table';\"))\n",
    "#print(tables)\n",
    "\n",
    "schema = list(cur.execute(\"SELECT name, sql FROM sqlite_master WHERE type='table';\"))\n",
    "#print(schema)"
   ]
  },
  {
   "cell_type": "code",
   "execution_count": 38,
   "id": "c1768b6f",
   "metadata": {},
   "outputs": [],
   "source": [
    "# Query 1: Retrieve the usernames of all users who have performed the \"signup\" action.\n",
    "\n",
    "query = \"SELECT username FROM user_actions WHERE action = 'signup';\"\n",
    "user_name_signup = list(cur.execute(query))\n",
    "#user_name_signup"
   ]
  },
  {
   "cell_type": "code",
   "execution_count": 39,
   "id": "b4d47c0f",
   "metadata": {},
   "outputs": [],
   "source": [
    "# Query 2: Find the total number of log entries for each user. Display the user_id, username, \n",
    "#and the count of log entries.\n",
    "query = \"SELECT user_id, username,COUNT(*) FROM user_actions GROUP BY user_id;\" \n",
    "user_name_logEntries = list(cur.execute(query))\n",
    "#user_name_logEntries"
   ]
  },
  {
   "cell_type": "code",
   "execution_count": 40,
   "id": "be911117",
   "metadata": {},
   "outputs": [],
   "source": [
    "# Query 3: Identify users who have both logged in (action = 'login') and signed up (action = 'signup') on the same day. \n",
    "# Display the user_id and username.\n",
    "query = \"SELECT user_id, username FROM user_actions WHERE action IN ('login', 'signup') GROUP BY user_id, username, DATE(timestamp) HAVING COUNT(DISTINCT action) = 2 ;\" \n",
    "query3 = list(cur.execute(query))\n",
    "#query3"
   ]
  },
  {
   "cell_type": "markdown",
   "id": "d9562775",
   "metadata": {},
   "source": [
    "## Regex"
   ]
  },
  {
   "cell_type": "code",
   "execution_count": 41,
   "id": "18f73117",
   "metadata": {},
   "outputs": [],
   "source": [
    "# Task 1: Write a regular expression to extract all hashtags from a given comment. \n",
    "#For example, applying the regex to comment 1 should return [\"#programming\", \"#tips\"].\n",
    "\n",
    "textfile = open(\"comments.txt\", 'r')\n",
    "matches_flat = []\n",
    "matches_dict = {}\n",
    "reg = re.compile(r'(#[\\w]+)[\\s|\"]')\n",
    "for line_num, line in enumerate(textfile):\n",
    "    matches = reg.findall(line)\n",
    "    matches_flat += matches\n",
    "    matches_dict[line_num] = matches\n",
    "    line_num += 1\n",
    "#print(f\">>>All hashtags: {matches_flat}\")\n"
   ]
  },
  {
   "cell_type": "code",
   "execution_count": 42,
   "id": "d06f3deb",
   "metadata": {},
   "outputs": [
    {
     "name": "stdout",
     "output_type": "stream",
     "text": [
      "6 15 21 30 "
     ]
    }
   ],
   "source": [
    "# Task 2: Create a regular expression to find comments that mention both \"#programming\" and \"#python\". \n",
    "# Apply the regex to comment 2 and check if it matches.\n",
    "\n",
    "textfile.seek(0)\n",
    "reg2 = re.compile(r'^(?=.*\\#programming\\b)(?=.*\\#python\\b).*$')\n",
    "\n",
    "for line_num, line in enumerate(textfile):\n",
    "    line_num += 1\n",
    "    matches = reg2.findall(line)\n",
    "    if matches:\n",
    "        print(line_num, end= \" \")\n",
    "\n",
    "textfile.seek(0)\n",
    "line2 = textfile.readlines()[1]\n",
    "#print(\">>>Comments contain both #programming and #python is\", end = \" \")\n",
    "#print(f\"\\n>>> comment 2 {'' if reg2.findall(line2) else 'does not'} contains both #programming and #python\")"
   ]
  }
 ],
 "metadata": {
  "kernelspec": {
   "display_name": "Python 3 (ipykernel)",
   "language": "python",
   "name": "python3"
  },
  "language_info": {
   "codemirror_mode": {
    "name": "ipython",
    "version": 3
   },
   "file_extension": ".py",
   "mimetype": "text/x-python",
   "name": "python",
   "nbconvert_exporter": "python",
   "pygments_lexer": "ipython3",
   "version": "3.11.3"
  }
 },
 "nbformat": 4,
 "nbformat_minor": 5
}
